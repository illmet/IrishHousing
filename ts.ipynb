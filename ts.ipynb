{
 "cells": [
  {
   "cell_type": "code",
   "execution_count": 1,
   "id": "0078e360-598a-4843-af36-f5b8a418a195",
   "metadata": {},
   "outputs": [],
   "source": [
    "import pandas as pd\n",
    "import matplotlib.pyplot as plt"
   ]
  },
  {
   "cell_type": "code",
   "execution_count": 2,
   "id": "db6012ee-035e-41ce-bcfc-7a9e19a2975c",
   "metadata": {},
   "outputs": [],
   "source": [
    "org = pd.read_csv(\"all.csv\", encoding='ISO-8859-1', low_memory=False)"
   ]
  },
  {
   "cell_type": "code",
   "execution_count": 3,
   "id": "30fc972c-e123-42d8-a9f2-be22173784a5",
   "metadata": {},
   "outputs": [],
   "source": [
    "org['Full'] = org['Address']+\", \"+org['County']\n",
    "org['Date'] = pd.to_datetime(org['Date of Sale (dd/mm/yyyy)'], format='%d/%m/%Y')\n",
    "org['Full Market Price'] = org['Not Full Market Price'].replace({'Yes':0, 'No':1})\n",
    "org['VAT exclusive'] = org['VAT Exclusive'].replace({'Yes':1, 'No':0})"
   ]
  },
  {
   "cell_type": "code",
   "execution_count": 4,
   "id": "d0763f61-fa47-49c9-a875-e315f8f66525",
   "metadata": {},
   "outputs": [],
   "source": [
    "org['Price'] = (org.iloc[:,4]\n",
    "                .str.replace(',', '')\n",
    "                .str.slice(1)\n",
    "                .astype('float32'))"
   ]
  },
  {
   "cell_type": "code",
   "execution_count": 5,
   "id": "211bd82d-617d-48fb-9360-7560146a8887",
   "metadata": {},
   "outputs": [],
   "source": [
    "#remove all the unnecessary columns\n",
    "org = (org\n",
    "   .drop('Price ()', axis=1)\n",
    "   .drop('Eircode', axis=1)\n",
    "   .drop('Property Size Description', axis=1)\n",
    "   .drop('Not Full Market Price' ,axis=1)\n",
    "   .drop('VAT Exclusive',axis=1)\n",
    "   .drop('Date of Sale (dd/mm/yyyy)',axis=1)\n",
    "   .drop('Description of Property',axis=1)\n",
    "\n",
    ")"
   ]
  },
  {
   "cell_type": "code",
   "execution_count": 6,
   "id": "ea82f5f8-d8e5-41a3-846d-5571976f5d19",
   "metadata": {},
   "outputs": [
    {
     "data": {
      "text/html": [
       "<div>\n",
       "<style scoped>\n",
       "    .dataframe tbody tr th:only-of-type {\n",
       "        vertical-align: middle;\n",
       "    }\n",
       "\n",
       "    .dataframe tbody tr th {\n",
       "        vertical-align: top;\n",
       "    }\n",
       "\n",
       "    .dataframe thead th {\n",
       "        text-align: right;\n",
       "    }\n",
       "</style>\n",
       "<table border=\"1\" class=\"dataframe\">\n",
       "  <thead>\n",
       "    <tr style=\"text-align: right;\">\n",
       "      <th></th>\n",
       "      <th>Address</th>\n",
       "      <th>County</th>\n",
       "      <th>Full</th>\n",
       "      <th>Date</th>\n",
       "      <th>Full Market Price</th>\n",
       "      <th>VAT exclusive</th>\n",
       "      <th>Price</th>\n",
       "    </tr>\n",
       "  </thead>\n",
       "  <tbody>\n",
       "    <tr>\n",
       "      <th>0</th>\n",
       "      <td>5 Braemor Drive, Churchtown, Co.Dublin</td>\n",
       "      <td>Dublin</td>\n",
       "      <td>5 Braemor Drive, Churchtown, Co.Dublin, Dublin</td>\n",
       "      <td>2010-01-01</td>\n",
       "      <td>1</td>\n",
       "      <td>0</td>\n",
       "      <td>343000.0</td>\n",
       "    </tr>\n",
       "    <tr>\n",
       "      <th>1</th>\n",
       "      <td>134 Ashewood Walk, Summerhill Lane, Portlaoise</td>\n",
       "      <td>Laois</td>\n",
       "      <td>134 Ashewood Walk, Summerhill Lane, Portlaoise...</td>\n",
       "      <td>2010-01-03</td>\n",
       "      <td>1</td>\n",
       "      <td>1</td>\n",
       "      <td>185000.0</td>\n",
       "    </tr>\n",
       "    <tr>\n",
       "      <th>2</th>\n",
       "      <td>1 Meadow Avenue, Dundrum, Dublin 14</td>\n",
       "      <td>Dublin</td>\n",
       "      <td>1 Meadow Avenue, Dundrum, Dublin 14, Dublin</td>\n",
       "      <td>2010-01-04</td>\n",
       "      <td>1</td>\n",
       "      <td>0</td>\n",
       "      <td>438500.0</td>\n",
       "    </tr>\n",
       "    <tr>\n",
       "      <th>3</th>\n",
       "      <td>1 The Haven, Mornington</td>\n",
       "      <td>Meath</td>\n",
       "      <td>1 The Haven, Mornington, Meath</td>\n",
       "      <td>2010-01-04</td>\n",
       "      <td>1</td>\n",
       "      <td>0</td>\n",
       "      <td>400000.0</td>\n",
       "    </tr>\n",
       "    <tr>\n",
       "      <th>4</th>\n",
       "      <td>11 Melville Heights, Kilkenny</td>\n",
       "      <td>Kilkenny</td>\n",
       "      <td>11 Melville Heights, Kilkenny, Kilkenny</td>\n",
       "      <td>2010-01-04</td>\n",
       "      <td>1</td>\n",
       "      <td>0</td>\n",
       "      <td>160000.0</td>\n",
       "    </tr>\n",
       "  </tbody>\n",
       "</table>\n",
       "</div>"
      ],
      "text/plain": [
       "                                          Address    County  \\\n",
       "0          5 Braemor Drive, Churchtown, Co.Dublin    Dublin   \n",
       "1  134 Ashewood Walk, Summerhill Lane, Portlaoise     Laois   \n",
       "2             1 Meadow Avenue, Dundrum, Dublin 14    Dublin   \n",
       "3                         1 The Haven, Mornington     Meath   \n",
       "4                   11 Melville Heights, Kilkenny  Kilkenny   \n",
       "\n",
       "                                                Full       Date  \\\n",
       "0     5 Braemor Drive, Churchtown, Co.Dublin, Dublin 2010-01-01   \n",
       "1  134 Ashewood Walk, Summerhill Lane, Portlaoise... 2010-01-03   \n",
       "2        1 Meadow Avenue, Dundrum, Dublin 14, Dublin 2010-01-04   \n",
       "3                     1 The Haven, Mornington, Meath 2010-01-04   \n",
       "4            11 Melville Heights, Kilkenny, Kilkenny 2010-01-04   \n",
       "\n",
       "   Full Market Price  VAT exclusive     Price  \n",
       "0                  1              0  343000.0  \n",
       "1                  1              1  185000.0  \n",
       "2                  1              0  438500.0  \n",
       "3                  1              0  400000.0  \n",
       "4                  1              0  160000.0  "
      ]
     },
     "execution_count": 6,
     "metadata": {},
     "output_type": "execute_result"
    }
   ],
   "source": [
    "org.head()"
   ]
  },
  {
   "cell_type": "code",
   "execution_count": 7,
   "id": "2540d8c4-758e-44c6-bd7f-0a5283d7fe1d",
   "metadata": {},
   "outputs": [
    {
     "data": {
      "text/html": [
       "<div>\n",
       "<style scoped>\n",
       "    .dataframe tbody tr th:only-of-type {\n",
       "        vertical-align: middle;\n",
       "    }\n",
       "\n",
       "    .dataframe tbody tr th {\n",
       "        vertical-align: top;\n",
       "    }\n",
       "\n",
       "    .dataframe thead th {\n",
       "        text-align: right;\n",
       "    }\n",
       "</style>\n",
       "<table border=\"1\" class=\"dataframe\">\n",
       "  <thead>\n",
       "    <tr style=\"text-align: right;\">\n",
       "      <th></th>\n",
       "      <th>Address</th>\n",
       "      <th>County</th>\n",
       "      <th>Full</th>\n",
       "      <th>Date</th>\n",
       "      <th>Full Market Price</th>\n",
       "      <th>VAT exclusive</th>\n",
       "      <th>Price</th>\n",
       "    </tr>\n",
       "  </thead>\n",
       "  <tbody>\n",
       "    <tr>\n",
       "      <th>611146</th>\n",
       "      <td>MAGHERMORE, GLENADE, COUNTY LEITRIM</td>\n",
       "      <td>Leitrim</td>\n",
       "      <td>MAGHERMORE, GLENADE, COUNTY LEITRIM, Leitrim</td>\n",
       "      <td>2023-07-28</td>\n",
       "      <td>1</td>\n",
       "      <td>0</td>\n",
       "      <td>163750.0</td>\n",
       "    </tr>\n",
       "    <tr>\n",
       "      <th>611147</th>\n",
       "      <td>SEAVEAGH, NEAR GLASSLOUGH, CO MONAGHAN</td>\n",
       "      <td>Monaghan</td>\n",
       "      <td>SEAVEAGH, NEAR GLASSLOUGH, CO MONAGHAN, Monaghan</td>\n",
       "      <td>2023-07-28</td>\n",
       "      <td>1</td>\n",
       "      <td>0</td>\n",
       "      <td>175000.0</td>\n",
       "    </tr>\n",
       "    <tr>\n",
       "      <th>611148</th>\n",
       "      <td>THE BUNGALOW, RING, CLONAKILTY</td>\n",
       "      <td>Cork</td>\n",
       "      <td>THE BUNGALOW, RING, CLONAKILTY, Cork</td>\n",
       "      <td>2023-07-28</td>\n",
       "      <td>1</td>\n",
       "      <td>0</td>\n",
       "      <td>449000.0</td>\n",
       "    </tr>\n",
       "    <tr>\n",
       "      <th>611149</th>\n",
       "      <td>THE COTTAGE, BLACKSTONE BRIDGE, LOWER KILEENS</td>\n",
       "      <td>Cork</td>\n",
       "      <td>THE COTTAGE, BLACKSTONE BRIDGE, LOWER KILEENS,...</td>\n",
       "      <td>2023-07-28</td>\n",
       "      <td>1</td>\n",
       "      <td>0</td>\n",
       "      <td>275000.0</td>\n",
       "    </tr>\n",
       "    <tr>\n",
       "      <th>611150</th>\n",
       "      <td>THE DORMER  KILBERRY, CASTLETOWN, NAVAN</td>\n",
       "      <td>Meath</td>\n",
       "      <td>THE DORMER  KILBERRY, CASTLETOWN, NAVAN, Meath</td>\n",
       "      <td>2023-07-28</td>\n",
       "      <td>1</td>\n",
       "      <td>0</td>\n",
       "      <td>550000.0</td>\n",
       "    </tr>\n",
       "  </tbody>\n",
       "</table>\n",
       "</div>"
      ],
      "text/plain": [
       "                                              Address    County  \\\n",
       "611146            MAGHERMORE, GLENADE, COUNTY LEITRIM   Leitrim   \n",
       "611147         SEAVEAGH, NEAR GLASSLOUGH, CO MONAGHAN  Monaghan   \n",
       "611148                 THE BUNGALOW, RING, CLONAKILTY      Cork   \n",
       "611149  THE COTTAGE, BLACKSTONE BRIDGE, LOWER KILEENS      Cork   \n",
       "611150        THE DORMER  KILBERRY, CASTLETOWN, NAVAN     Meath   \n",
       "\n",
       "                                                     Full       Date  \\\n",
       "611146       MAGHERMORE, GLENADE, COUNTY LEITRIM, Leitrim 2023-07-28   \n",
       "611147   SEAVEAGH, NEAR GLASSLOUGH, CO MONAGHAN, Monaghan 2023-07-28   \n",
       "611148               THE BUNGALOW, RING, CLONAKILTY, Cork 2023-07-28   \n",
       "611149  THE COTTAGE, BLACKSTONE BRIDGE, LOWER KILEENS,... 2023-07-28   \n",
       "611150     THE DORMER  KILBERRY, CASTLETOWN, NAVAN, Meath 2023-07-28   \n",
       "\n",
       "        Full Market Price  VAT exclusive     Price  \n",
       "611146                  1              0  163750.0  \n",
       "611147                  1              0  175000.0  \n",
       "611148                  1              0  449000.0  \n",
       "611149                  1              0  275000.0  \n",
       "611150                  1              0  550000.0  "
      ]
     },
     "execution_count": 7,
     "metadata": {},
     "output_type": "execute_result"
    }
   ],
   "source": [
    "org.tail()"
   ]
  },
  {
   "cell_type": "code",
   "execution_count": 9,
   "id": "f067815d-ceda-4250-a096-65333527aac4",
   "metadata": {},
   "outputs": [],
   "source": [
    "dub = org[org['County'] == 'Dublin']\n",
    "dub['Date'] = pd.to_datetime(dub['Date'])"
   ]
  },
  {
   "cell_type": "code",
   "execution_count": 26,
   "id": "fa7ec901-38ba-4aec-bf2d-11912ba6abae",
   "metadata": {},
   "outputs": [],
   "source": [
    "dubyearmean = dub.groupby(pd.Grouper(key='Date', freq='Y'))['Price'].mean()"
   ]
  },
  {
   "cell_type": "code",
   "execution_count": 28,
   "id": "0411b6d4-7d7b-4647-81b9-e60c0bad66d8",
   "metadata": {},
   "outputs": [
    {
     "data": {
      "image/png": "[encoded data removed]",
      "text/plain": [
       "<Figure size 1000x600 with 1 Axes>"
      ]
     },
     "metadata": {},
     "output_type": "display_data"
    }
   ],
   "source": [
    "# a bar chart\n",
    "plt.figure(figsize=(10, 6))\n",
    "plt.bar(dubyearmean.index.year, dubyearmean.values)\n",
    "plt.xlabel('Year')\n",
    "plt.ylabel('Average Price')\n",
    "plt.title('Average Price per Year')\n",
    "\n",
    "plt.show()"
   ]
  }
 ],
 "metadata": {
  "kernelspec": {
   "display_name": "Python 3 (ipykernel)",
   "language": "python",
   "name": "python3"
  },
  "language_info": {
   "codemirror_mode": {
    "name": "ipython",
    "version": 3
   },
   "file_extension": ".py",
   "mimetype": "text/x-python",
   "name": "python",
   "nbconvert_exporter": "python",
   "pygments_lexer": "ipython3",
   "version": "3.10.9"
  }
 },
 "nbformat": 4,
 "nbformat_minor": 5
}
