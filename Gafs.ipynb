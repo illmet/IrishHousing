{
 "cells": [
  {
   "cell_type": "code",
   "execution_count": 1,
   "id": "16210a0a",
   "metadata": {},
   "outputs": [],
   "source": [
    "import pandas as pd\n",
    "import numpy as np\n",
    "import matplotlib.pyplot as plt\n",
    "import time\n",
    "import requests\n",
    "import os"
   ]
  },
  {
   "cell_type": "markdown",
   "id": "6ec9f787-792f-4e84-8cdd-2275ef406aeb",
   "metadata": {
    "tags": []
   },
   "source": [
    "<h4>Old Preprocessing procedure, now at RPPPpipeline.py</h4>"
   ]
  },
  {
   "cell_type": "code",
   "execution_count": 2,
   "id": "182a5a70-f76d-4293-9af7-809620a151f1",
   "metadata": {},
   "outputs": [],
   "source": [
    "al = pd.read_csv(\"PPR-ALL.csv\", encoding='ISO-8859-1', low_memory=False)"
   ]
  },
  {
   "cell_type": "code",
   "execution_count": 3,
   "id": "e87b85dd-d920-4923-b15c-bdc6ebf284eb",
   "metadata": {},
   "outputs": [],
   "source": [
    "al['Full'] = al['Address']+\", \"+al['County']\n",
    "al['Date'] = pd.to_datetime(al['Date of Sale (dd/mm/yyyy)'], format='%d/%m/%Y')\n",
    "al['Full Market Price'] = al['Not Full Market Price'].replace({'Yes':0, 'No':1})\n",
    "al['VAT exclusive'] = al['VAT Exclusive'].replace({'Yes':1, 'No':0})"
   ]
  },
  {
   "cell_type": "code",
   "execution_count": 4,
   "id": "fe63cd1b-22fc-40fc-acfd-d5eb802f838a",
   "metadata": {},
   "outputs": [],
   "source": [
    "al['Price'] = (al.iloc[:,4]\n",
    "                .str.replace(',', '')\n",
    "                .str.slice(1)\n",
    "                .astype('float32'))"
   ]
  },
  {
   "cell_type": "code",
   "execution_count": 5,
   "id": "d9d16ee5-2436-450b-9b8d-62a8ee139adc",
   "metadata": {},
   "outputs": [],
   "source": [
    "#remove all the unnecessary columns\n",
    "al = (al\n",
    "   .drop('Price ()', axis=1)\n",
    "   .drop('Eircode', axis=1)\n",
    "   .drop('Property Size Description', axis=1)\n",
    "   .drop('Not Full Market Price' ,axis=1)\n",
    "   .drop('VAT Exclusive',axis=1)\n",
    "   .drop('Date of Sale (dd/mm/yyyy)',axis=1)\n",
    "   .drop('Description of Property',axis=1)\n",
    "\n",
    ")"
   ]
  },
  {
   "cell_type": "code",
   "execution_count": 6,
   "id": "fea2ef00-de19-4bd3-8e7b-0b72e17762c1",
   "metadata": {},
   "outputs": [
    {
     "data": {
      "text/html": [
       "<div>\n",
       "<style scoped>\n",
       "    .dataframe tbody tr th:only-of-type {\n",
       "        vertical-align: middle;\n",
       "    }\n",
       "\n",
       "    .dataframe tbody tr th {\n",
       "        vertical-align: top;\n",
       "    }\n",
       "\n",
       "    .dataframe thead th {\n",
       "        text-align: right;\n",
       "    }\n",
       "</style>\n",
       "<table border=\"1\" class=\"dataframe\">\n",
       "  <thead>\n",
       "    <tr style=\"text-align: right;\">\n",
       "      <th></th>\n",
       "      <th>Address</th>\n",
       "      <th>County</th>\n",
       "      <th>Full</th>\n",
       "      <th>Date</th>\n",
       "      <th>Full Market Price</th>\n",
       "      <th>VAT exclusive</th>\n",
       "      <th>Price</th>\n",
       "    </tr>\n",
       "  </thead>\n",
       "  <tbody>\n",
       "    <tr>\n",
       "      <th>0</th>\n",
       "      <td>5 Braemor Drive, Churchtown, Co.Dublin</td>\n",
       "      <td>Dublin</td>\n",
       "      <td>5 Braemor Drive, Churchtown, Co.Dublin, Dublin</td>\n",
       "      <td>2010-01-01</td>\n",
       "      <td>1</td>\n",
       "      <td>0</td>\n",
       "      <td>343000.0</td>\n",
       "    </tr>\n",
       "    <tr>\n",
       "      <th>1</th>\n",
       "      <td>134 Ashewood Walk, Summerhill Lane, Portlaoise</td>\n",
       "      <td>Laois</td>\n",
       "      <td>134 Ashewood Walk, Summerhill Lane, Portlaoise...</td>\n",
       "      <td>2010-01-03</td>\n",
       "      <td>1</td>\n",
       "      <td>1</td>\n",
       "      <td>185000.0</td>\n",
       "    </tr>\n",
       "    <tr>\n",
       "      <th>2</th>\n",
       "      <td>1 Meadow Avenue, Dundrum, Dublin 14</td>\n",
       "      <td>Dublin</td>\n",
       "      <td>1 Meadow Avenue, Dundrum, Dublin 14, Dublin</td>\n",
       "      <td>2010-01-04</td>\n",
       "      <td>1</td>\n",
       "      <td>0</td>\n",
       "      <td>438500.0</td>\n",
       "    </tr>\n",
       "    <tr>\n",
       "      <th>3</th>\n",
       "      <td>1 The Haven, Mornington</td>\n",
       "      <td>Meath</td>\n",
       "      <td>1 The Haven, Mornington, Meath</td>\n",
       "      <td>2010-01-04</td>\n",
       "      <td>1</td>\n",
       "      <td>0</td>\n",
       "      <td>400000.0</td>\n",
       "    </tr>\n",
       "    <tr>\n",
       "      <th>4</th>\n",
       "      <td>11 Melville Heights, Kilkenny</td>\n",
       "      <td>Kilkenny</td>\n",
       "      <td>11 Melville Heights, Kilkenny, Kilkenny</td>\n",
       "      <td>2010-01-04</td>\n",
       "      <td>1</td>\n",
       "      <td>0</td>\n",
       "      <td>160000.0</td>\n",
       "    </tr>\n",
       "  </tbody>\n",
       "</table>\n",
       "</div>"
      ],
      "text/plain": [
       "                                          Address    County  \\\n",
       "0          5 Braemor Drive, Churchtown, Co.Dublin    Dublin   \n",
       "1  134 Ashewood Walk, Summerhill Lane, Portlaoise     Laois   \n",
       "2             1 Meadow Avenue, Dundrum, Dublin 14    Dublin   \n",
       "3                         1 The Haven, Mornington     Meath   \n",
       "4                   11 Melville Heights, Kilkenny  Kilkenny   \n",
       "\n",
       "                                                Full       Date  \\\n",
       "0     5 Braemor Drive, Churchtown, Co.Dublin, Dublin 2010-01-01   \n",
       "1  134 Ashewood Walk, Summerhill Lane, Portlaoise... 2010-01-03   \n",
       "2        1 Meadow Avenue, Dundrum, Dublin 14, Dublin 2010-01-04   \n",
       "3                     1 The Haven, Mornington, Meath 2010-01-04   \n",
       "4            11 Melville Heights, Kilkenny, Kilkenny 2010-01-04   \n",
       "\n",
       "   Full Market Price  VAT exclusive     Price  \n",
       "0                  1              0  343000.0  \n",
       "1                  1              1  185000.0  \n",
       "2                  1              0  438500.0  \n",
       "3                  1              0  400000.0  \n",
       "4                  1              0  160000.0  "
      ]
     },
     "execution_count": 6,
     "metadata": {},
     "output_type": "execute_result"
    }
   ],
   "source": [
    "al.head()"
   ]
  },
  {
   "cell_type": "markdown",
   "id": "1a73e099-689c-4b89-8c09-94cbc4292648",
   "metadata": {},
   "source": [
    "<h4>Getting coordinates</h4>"
   ]
  },
  {
   "cell_type": "code",
   "execution_count": 7,
   "id": "27e5908b-f82c-4080-b209-6b2f115c08a6",
   "metadata": {},
   "outputs": [],
   "source": [
    "start = pd.to_datetime('2023-01-01')  \n",
    "end = pd.to_datetime('2023-06-30')\n",
    "f23 = al[(al['Date'] >= start) & (al['Date'] <= end)]\n",
    "b23 = f23.sort_values('Date')"
   ]
  },
  {
   "cell_type": "code",
   "execution_count": 7,
   "id": "7e9c93c7-1e57-418d-a1a4-ff5b7491c57f",
   "metadata": {},
   "outputs": [
    {
     "data": {
      "text/plain": [
       "26600"
      ]
     },
     "execution_count": 7,
     "metadata": {},
     "output_type": "execute_result"
    }
   ],
   "source": [
    "b23.head()\n",
    "len(b23)"
   ]
  },
  {
   "cell_type": "code",
   "execution_count": 32,
   "id": "defa1efc-32b8-491e-8afc-94ead54c4c6b",
   "metadata": {},
   "outputs": [],
   "source": [
    "start = pd.to_datetime('2022-01-01')  \n",
    "end = pd.to_datetime('2022-12-31')\n",
    "f22 = al[(al['Date'] >= start) & (al['Date'] <= end)]\n",
    "b22 = f22.sort_values('Date')"
   ]
  },
  {
   "cell_type": "code",
   "execution_count": 33,
   "id": "80fc2bb8-da7b-4dc1-b2e5-9f0c509a1bde",
   "metadata": {},
   "outputs": [
    {
     "data": {
      "text/plain": [
       "62440"
      ]
     },
     "execution_count": 33,
     "metadata": {},
     "output_type": "execute_result"
    }
   ],
   "source": [
    "b22.head()\n",
    "len(b22)"
   ]
  },
  {
   "cell_type": "code",
   "execution_count": 10,
   "id": "b3eed046-5316-40b7-9a48-5cdd69ff9fdd",
   "metadata": {},
   "outputs": [],
   "source": [
    "start = pd.to_datetime('2022-12-01')  \n",
    "end = pd.to_datetime('2022-12-31')\n",
    "f22 = al[(al['Date'] >= start) & (al['Date'] <= end)]\n",
    "b22 = f22.sort_values('Date')"
   ]
  },
  {
   "cell_type": "code",
   "execution_count": 11,
   "id": "a09cb47c-c4ba-405b-bd6a-c80002d30179",
   "metadata": {},
   "outputs": [
    {
     "data": {
      "text/plain": [
       "6772"
      ]
     },
     "execution_count": 11,
     "metadata": {},
     "output_type": "execute_result"
    }
   ],
   "source": [
    "b22.head()\n",
    "len(b22)"
   ]
  },
  {
   "cell_type": "code",
   "execution_count": 10,
   "id": "c7594bf3-903d-49ae-84ed-1afe7f8bd6a3",
   "metadata": {},
   "outputs": [],
   "source": [
    "jan = b23[b23['Date'] <= pd.to_datetime('2023-01-31')]\n",
    "jan = jan.sort_values('Date')"
   ]
  },
  {
   "cell_type": "code",
   "execution_count": 12,
   "id": "6b012f30-d365-4c55-8d89-0042beadfd44",
   "metadata": {},
   "outputs": [
    {
     "name": "stdout",
     "output_type": "stream",
     "text": [
      "3615\n"
     ]
    }
   ],
   "source": [
    "print(len(jan))"
   ]
  },
  {
   "cell_type": "code",
   "execution_count": 38,
   "id": "31a8a1b6-26c3-4194-ad78-f6c111458e30",
   "metadata": {},
   "outputs": [],
   "source": [
    "feb = b23[(b23['Date'] >= pd.to_datetime('2023-02-01')) & (b23['Date'] <= pd.to_datetime('2023-02-28'))]\n",
    "feb = feb.sort_values('Date')"
   ]
  },
  {
   "cell_type": "code",
   "execution_count": 39,
   "id": "f02a6310-7480-4ac3-b7ef-3a92e81e1028",
   "metadata": {},
   "outputs": [
    {
     "name": "stdout",
     "output_type": "stream",
     "text": [
      "4281\n"
     ]
    }
   ],
   "source": [
    "print(len(feb))"
   ]
  },
  {
   "cell_type": "markdown",
   "id": "c0671d3e-cfbc-4f23-9e4c-502f1a04a7f0",
   "metadata": {},
   "source": [
    "<h4>Geocoding</h4>"
   ]
  },
  {
   "cell_type": "code",
   "execution_count": 12,
   "id": "a07d3db6-3dab-45a1-a0c6-34ad93f6aa8b",
   "metadata": {
    "tags": []
   },
   "outputs": [],
   "source": [
    "g = os.environ.get(\"googol\")"
   ]
  },
  {
   "cell_type": "markdown",
   "id": "ba7c8b39-9ae3-4279-8edb-9b4d7ea02ac1",
   "metadata": {},
   "source": [
    "Improve iterations:  \n",
    "If geolocation is out of bounds, try with a county?  \n",
    "If none, try with an eircode?"
   ]
  },
  {
   "cell_type": "code",
   "execution_count": 13,
   "id": "293faaf7-2301-4cb3-bf0b-af191ac5ec3e",
   "metadata": {},
   "outputs": [],
   "source": [
    "def get_coordinates(address):\n",
    "    url = f'https://maps.googleapis.com/maps/api/geocode/json?address={address}&key={g}'\n",
    "    response = requests.get(url)\n",
    "    data = response.json()\n",
    "\n",
    "    if data['status'] == 'OK':\n",
    "        lat = data['results'][0]['geometry']['location']['lat']\n",
    "        lng = data['results'][0]['geometry']['location']['lng']\n",
    "        return lat, lng\n",
    "    else:\n",
    "        return None\n",
    "\n",
    "# Create new columns for latitude and longitude\n",
    "#df['latitude'], df['longitude'] = zip(*df['address'].apply(get_coordinates))"
   ]
  },
  {
   "cell_type": "markdown",
   "id": "c009c7f7-2e22-4eba-9ec7-edac9aa05207",
   "metadata": {},
   "source": [
    "<h4>Iteration</h4>"
   ]
  },
  {
   "cell_type": "code",
   "execution_count": 15,
   "id": "eea1ee62-5efb-44cf-b00a-ce1632ea7112",
   "metadata": {},
   "outputs": [],
   "source": [
    "#itr = jan['Full'].to_list()\n",
    "#itr = feb['Full'].to_list()"
   ]
  },
  {
   "cell_type": "code",
   "execution_count": 14,
   "id": "8b0ec9e4-b05a-4af3-b999-a32005ab8615",
   "metadata": {},
   "outputs": [],
   "source": [
    "#itr = b23['Full'].to_list()\n",
    "itr = b22['Full'].to_list()"
   ]
  },
  {
   "cell_type": "code",
   "execution_count": 15,
   "id": "dec24207-bb1d-4017-b7ef-422bdedf5651",
   "metadata": {},
   "outputs": [
    {
     "name": "stdout",
     "output_type": "stream",
     "text": [
      "6772\n"
     ]
    }
   ],
   "source": [
    "print(len(itr))"
   ]
  },
  {
   "cell_type": "code",
   "execution_count": 16,
   "id": "378f2a0b-97be-4d7d-92c7-752e90e7d58a",
   "metadata": {},
   "outputs": [],
   "source": [
    "latit = []\n",
    "longt = []"
   ]
  },
  {
   "cell_type": "code",
   "execution_count": 17,
   "id": "14c2f294-6ab3-41f6-9109-94d037a2bfe9",
   "metadata": {},
   "outputs": [],
   "source": [
    "from IPython.display import clear_output"
   ]
  },
  {
   "cell_type": "code",
   "execution_count": 18,
   "id": "14d43966-ed2c-4c6c-b1bd-5eee746e47c9",
   "metadata": {},
   "outputs": [
    {
     "name": "stdout",
     "output_type": "stream",
     "text": [
      "APT 22 -  PEARSE COURT, PEARSE STREET, ATHLONE, Westmeath, 53.4221488, -7.944692499999999\n"
     ]
    }
   ],
   "source": [
    "for i in itr:\n",
    "    imp = get_coordinates(i)\n",
    "    if imp is None:\n",
    "        print(f\"Failed to get coordinates for {i}\")\n",
    "        latit.append(None)\n",
    "        longt.append(None)\n",
    "        time.sleep(0.5)\n",
    "    else:\n",
    "        latit.append(imp[0])\n",
    "        longt.append(imp[1])\n",
    "        clear_output(wait=True)\n",
    "        print(f\"{i}, {imp[0]}, {imp[1]}\")\n",
    "        time.sleep(0.5)"
   ]
  },
  {
   "cell_type": "code",
   "execution_count": 26,
   "id": "04e75a31-f805-473c-bda1-a71bdca22553",
   "metadata": {},
   "outputs": [
    {
     "name": "stdout",
     "output_type": "stream",
     "text": [
      "26600\n",
      "26600\n",
      "81\n",
      "80\n",
      "26600\n"
     ]
    }
   ],
   "source": [
    "print(len(latit))\n",
    "print(len(longt))\n",
    "print(latit.count(None))\n",
    "print(longt.count(None))\n",
    "print(len(b22))"
   ]
  },
  {
   "cell_type": "code",
   "execution_count": 27,
   "id": "3f573515-0642-42c1-8270-ef764890c4b6",
   "metadata": {},
   "outputs": [],
   "source": [
    "for i in range(len(latit)):\n",
    "    if latit[i] == None:\n",
    "        latit[i] = None\n",
    "    elif latit[i] < 45:\n",
    "        latit[i] = None"
   ]
  },
  {
   "cell_type": "code",
   "execution_count": 37,
   "id": "3a73b13d-dc04-43db-937d-edf61ed3b657",
   "metadata": {},
   "outputs": [],
   "source": [
    "for i in range(len(longt)):\n",
    "    if longt[i] == None:\n",
    "        longt[i] = None\n",
    "    elif longt[i] < -20: #| longt[i] > -5.9:\n",
    "        longt[i] = None"
   ]
  },
  {
   "cell_type": "code",
   "execution_count": 29,
   "id": "e05984dc-2585-4f58-a3f1-bec479946c3a",
   "metadata": {},
   "outputs": [
    {
     "name": "stdout",
     "output_type": "stream",
     "text": [
      "81\n",
      "26586\n"
     ]
    }
   ],
   "source": [
    "print(latit.count(None))\n",
    "print(longt.count(None))"
   ]
  },
  {
   "cell_type": "code",
   "execution_count": 23,
   "id": "e19f5751-c9cf-4fe3-b738-d78987fc93cf",
   "metadata": {},
   "outputs": [],
   "source": [
    "b23['Latitude'] = latit\n",
    "b23['Longitude'] = longt"
   ]
  },
  {
   "cell_type": "code",
   "execution_count": 24,
   "id": "ab8c0e00-c60c-47bf-b289-1b46d4d52895",
   "metadata": {
    "tags": []
   },
   "outputs": [
    {
     "data": {
      "image/png": "[encoded data removed]",
      "text/plain": [
       "<Figure size 640x480 with 1 Axes>"
      ]
     },
     "metadata": {},
     "output_type": "display_data"
    }
   ],
   "source": [
    "b23.plot(kind=\"scatter\", x=\"Longitude\", y=\"Latitude\", grid=True, alpha=0.2)\n",
    "plt.show()"
   ]
  },
  {
   "cell_type": "code",
   "execution_count": null,
   "id": "9cb14c8a-5996-4029-981a-8da5b28b7e3d",
   "metadata": {},
   "outputs": [],
   "source": [
    "b22['Latitude'] = latit\n",
    "b22['Longitude'] = longt"
   ]
  },
  {
   "cell_type": "code",
   "execution_count": null,
   "id": "bccdb7f9-1118-4f0e-936f-b0611c4dcc9d",
   "metadata": {},
   "outputs": [],
   "source": [
    "b22.plot(kind=\"scatter\", x=\"Longitude\", y=\"Latitude\", grid=True, alpha=0.2)\n",
    "plt.show()"
   ]
  },
  {
   "cell_type": "markdown",
   "id": "780ea1c4-0398-430e-9da6-d31098778666",
   "metadata": {},
   "source": [
    "<h4>TODO: Normalise data for a good graph</h4>"
   ]
  },
  {
   "cell_type": "markdown",
   "id": "90f4c38b-7c4e-45d3-a905-a2a6f47baa01",
   "metadata": {},
   "source": [
    "<h4>Do some Knn on the VAT thing or whatever</h4>"
   ]
  },
  {
   "cell_type": "code",
   "execution_count": 25,
   "id": "b78d63cc-413c-47e8-b559-cea029dd5226",
   "metadata": {},
   "outputs": [],
   "source": [
    "b23.to_csv(\"2023.csv\", index=False)"
   ]
  },
  {
   "cell_type": "code",
   "execution_count": null,
   "id": "915c9ee4-9e80-4234-91c8-0ff77ca83951",
   "metadata": {},
   "outputs": [],
   "source": [
    "b22.to_csv(\"2022.csv\", index=False)"
   ]
  }
 ],
 "metadata": {
  "kernelspec": {
   "display_name": "Python 3 (ipykernel)",
   "language": "python",
   "name": "python3"
  },
  "language_info": {
   "codemirror_mode": {
    "name": "ipython",
    "version": 3
   },
   "file_extension": ".py",
   "mimetype": "text/x-python",
   "name": "python",
   "nbconvert_exporter": "python",
   "pygments_lexer": "ipython3",
   "version": "3.10.9"
  }
 },
 "nbformat": 4,
 "nbformat_minor": 5
}
