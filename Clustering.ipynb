{
 "cells": [
  {
   "cell_type": "code",
   "execution_count": 1,
   "id": "9554a80e-657b-4683-9e88-01f0dc16e618",
   "metadata": {},
   "outputs": [],
   "source": [
    "import numpy as np\n",
    "import pandas as pd\n",
    "import xgboost as xgb\n",
    "import matplotlib.pyplot as plt\n",
    "import seaborn as sns\n",
    "from scipy.cluster.hierarchy import linkage, dendrogram, cut_tree"
   ]
  },
  {
   "cell_type": "code",
   "execution_count": 2,
   "id": "8a4eed58-eb7b-49b3-9d72-4f4108822230",
   "metadata": {},
   "outputs": [],
   "source": [
    "df = pd.read_csv(\"df23fin.csv\")"
   ]
  },
  {
   "cell_type": "code",
   "execution_count": 3,
   "id": "d6485907-4935-48b6-b290-6ea102f95d61",
   "metadata": {},
   "outputs": [],
   "source": [
    "#only Dublin subset\n",
    "dub = df[(df['Latitude'] >= 53.2595) & (df['Latitude'] <= 53.4135) &\n",
    "                 (df['Longitude'] >= -6.40) & (df['Longitude'] <= -6.04)]"
   ]
  },
  {
   "cell_type": "code",
   "execution_count": 4,
   "id": "ecbb28c3-6b41-4882-822a-b0ae54507264",
   "metadata": {},
   "outputs": [],
   "source": [
    "#select only numerical columns for clustering\n",
    "dub_clust = dub[['Latitude', 'Longitude', 'Price']]"
   ]
  },
  {
   "cell_type": "code",
   "execution_count": 6,
   "id": "47b81abf-0260-49e6-be49-44c7797e2619",
   "metadata": {
    "scrolled": true
   },
   "outputs": [
    {
     "name": "stderr",
     "output_type": "stream",
     "text": [
      "/var/folders/jd/xt720m1547g5zz02b9btm1ww0000gn/T/ipykernel_6031/3034109594.py:4: SettingWithCopyWarning: \n",
      "A value is trying to be set on a copy of a slice from a DataFrame.\n",
      "Try using .loc[row_indexer,col_indexer] = value instead\n",
      "\n",
      "See the caveats in the documentation: https://pandas.pydata.org/pandas-docs/stable/user_guide/indexing.html#returning-a-view-versus-a-copy\n",
      "  dub_clust[\"Cluster\"] = cluster_labels\n"
     ]
    },
    {
     "data": {
      "image/png": "[encoded data removed]",
      "text/plain": [
       "<Figure size 640x480 with 1 Axes>"
      ]
     },
     "metadata": {},
     "output_type": "display_data"
    }
   ],
   "source": [
    "clustering = linkage(dub_clust, method=\"average\", metric=\"euclidean\")\n",
    "dendrogram(clustering)\n",
    "cluster_labels = cut_tree(clustering, n_clusters=15).reshape(-1, )\n",
    "dub_clust[\"Cluster\"] = cluster_labels"
   ]
  },
  {
   "cell_type": "code",
   "execution_count": 10,
   "id": "51b80ece-54bb-4c3e-8a29-70ae541a0772",
   "metadata": {},
   "outputs": [
    {
     "data": {
      "text/plain": [
       "numpy.ndarray"
      ]
     },
     "execution_count": 10,
     "metadata": {},
     "output_type": "execute_result"
    }
   ],
   "source": [
    "type(cluster_labels)"
   ]
  },
  {
   "cell_type": "code",
   "execution_count": 7,
   "id": "b0c18129-f5c7-4d75-9ae9-2cbc1e9bba5d",
   "metadata": {
    "scrolled": true
   },
   "outputs": [
    {
     "data": {
      "text/plain": [
       "<Axes: xlabel='Cluster', ylabel='Price'>"
      ]
     },
     "execution_count": 7,
     "metadata": {},
     "output_type": "execute_result"
    },
    {
     "data": {
      "image/png": "[encoded data removed]",
      "text/plain": [
       "<Figure size 640x480 with 1 Axes>"
      ]
     },
     "metadata": {},
     "output_type": "display_data"
    }
   ],
   "source": [
    "sns.boxplot(x='Cluster', y='Price', data=dub_clust)"
   ]
  },
  {
   "cell_type": "code",
   "execution_count": 8,
   "id": "9900abca-f3cf-4fb2-9f1b-6b1e8cfacf13",
   "metadata": {
    "scrolled": true
   },
   "outputs": [
    {
     "data": {
      "text/plain": [
       "Cluster\n",
       "0     3616\n",
       "2     1446\n",
       "1      244\n",
       "4      142\n",
       "3       88\n",
       "7       26\n",
       "6       22\n",
       "8        8\n",
       "9        4\n",
       "11       4\n",
       "10       2\n",
       "12       2\n",
       "13       2\n",
       "5        1\n",
       "14       1\n",
       "Name: count, dtype: int64"
      ]
     },
     "execution_count": 8,
     "metadata": {},
     "output_type": "execute_result"
    }
   ],
   "source": [
    "dub_clust['Cluster'].value_counts()"
   ]
  },
  {
   "cell_type": "code",
   "execution_count": 11,
   "id": "6152f28d-bb29-4d9b-88e6-9f61b512d4f1",
   "metadata": {},
   "outputs": [
    {
     "name": "stderr",
     "output_type": "stream",
     "text": [
      "/var/folders/jd/xt720m1547g5zz02b9btm1ww0000gn/T/ipykernel_6031/2370460156.py:1: SettingWithCopyWarning: \n",
      "A value is trying to be set on a copy of a slice from a DataFrame.\n",
      "Try using .loc[row_indexer,col_indexer] = value instead\n",
      "\n",
      "See the caveats in the documentation: https://pandas.pydata.org/pandas-docs/stable/user_guide/indexing.html#returning-a-view-versus-a-copy\n",
      "  dub[\"Cluster\"] = dub_clust[[\"Cluster\"]]\n",
      "/var/folders/jd/xt720m1547g5zz02b9btm1ww0000gn/T/ipykernel_6031/2370460156.py:2: SettingWithCopyWarning: \n",
      "A value is trying to be set on a copy of a slice from a DataFrame.\n",
      "Try using .loc[row_indexer,col_indexer] = value instead\n",
      "\n",
      "See the caveats in the documentation: https://pandas.pydata.org/pandas-docs/stable/user_guide/indexing.html#returning-a-view-versus-a-copy\n",
      "  dub[\"Locality\"] = dub[\"Address\"].str[-9:]\n"
     ]
    }
   ],
   "source": [
    "dub[\"Cluster\"] = dub_clust[[\"Cluster\"]]\n",
    "dub[\"Locality\"] = dub[\"Address\"].str[-9:]"
   ]
  },
  {
   "cell_type": "code",
   "execution_count": 12,
   "id": "73b6e1f4-c675-49c0-9716-6a1824fcfb88",
   "metadata": {},
   "outputs": [
    {
     "data": {
      "text/plain": [
       "Locality\n",
       " DUBLIN 9    284\n",
       " DUBLIN 8    281\n",
       "DUBLIN 12    263\n",
       " DUBLIN 7    262\n",
       " DUBLIN 4    232\n",
       "DUBLIN 15    226\n",
       "DUBLIN 14    217\n",
       " DUBLIN 5    213\n",
       " DUBLIN 6    212\n",
       "DUBLIN 11    208\n",
       " DUBLIN 3    204\n",
       "DUBLIN 16    174\n",
       "DUBLIN 24    165\n",
       "DUBLIN 13    152\n",
       " DUBLIN 1    118\n",
       "DUBLIN 18    117\n",
       "d, Dalkey    102\n",
       "DUBLIN 6W     90\n",
       " DUBLIN 2     84\n",
       "N, DUBLIN     78\n",
       "K, DUBLIN     73\n",
       "LAOGHAIRE     70\n",
       "DUBLIN 22     70\n",
       "BLACKROCK     68\n",
       "E, DUBLIN     65\n",
       "DUBLIN 20     60\n",
       "DUBLIN 10     55\n",
       "Y, DUBLIN     51\n",
       "CO DUBLIN     47\n",
       "1, DUBLIN     41\n",
       "7, DUBLIN     41\n",
       "DUBLIN 17     40\n",
       "8, DUBLIN     37\n",
       "2, DUBLIN     34\n",
       ", Ashtown     33\n",
       "t Merrion     30\n",
       " TALLAGHT     29\n",
       "4, DUBLIN     27\n",
       "hurchtown     26\n",
       "RUMCONDRA     24\n",
       "THFARNHAM     23\n",
       "3, DUBLIN     23\n",
       "T, DUBLIN     20\n",
       "TOWN ROAD     19\n",
       "STLEKNOCK     18\n",
       ", ASHTOWN     18\n",
       "BLIN CITY     18\n",
       "5, DUBLIN     17\n",
       "SANDYFORD     17\n",
       "rtmarnock     16\n",
       "Name: count, dtype: int64"
      ]
     },
     "execution_count": 12,
     "metadata": {},
     "output_type": "execute_result"
    }
   ],
   "source": [
    "dub[\"Locality\"].value_counts()[:50]"
   ]
  },
  {
   "cell_type": "code",
   "execution_count": null,
   "id": "aa1eff06-efe8-4223-b8b1-0678122bcef6",
   "metadata": {},
   "outputs": [],
   "source": [
    "#only Dublin\n",
    "plt.figure(figsize=(10, 7))\n",
    "plt.scatter(dub_clust['Longitude'], dub_clust['Latitude'], c=dub_clust['Cluster'], cmap='inferno', s=15)\n",
    "plt.colorbar().set_label('Geographical Cluster')\n",
    "plt.xlabel('Longitude')\n",
    "plt.ylabel('Latitude')\n",
    "plt.title('Geographical Clustering of Specific Price regions in Dublin')\n",
    "plt.grid(False)\n",
    "plt.show()"
   ]
  }
 ],
 "metadata": {
  "kernelspec": {
   "display_name": "Python 3 (ipykernel)",
   "language": "python",
   "name": "python3"
  },
  "language_info": {
   "codemirror_mode": {
    "name": "ipython",
    "version": 3
   },
   "file_extension": ".py",
   "mimetype": "text/x-python",
   "name": "python",
   "nbconvert_exporter": "python",
   "pygments_lexer": "ipython3",
   "version": "3.12.4"
  }
 },
 "nbformat": 4,
 "nbformat_minor": 5
}
